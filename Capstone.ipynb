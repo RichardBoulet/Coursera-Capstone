{
 "cells": [
  {
   "cell_type": "markdown",
   "metadata": {},
   "source": [
    "# Capstone Project - The Battle of Neighborhoods"
   ]
  },
  {
   "cell_type": "markdown",
   "metadata": {},
   "source": [
    "### Notebook for the battle of the Neighborhoods Capstone. We will be exploring the Foursquare API data and how to apply it to a business problem. "
   ]
  },
  {
   "cell_type": "markdown",
   "metadata": {},
   "source": [
    "## Business Problem"
   ]
  },
  {
   "cell_type": "markdown",
   "metadata": {},
   "source": [
    "### We will be exploring the Washington D.C. area in order to assist in informing our client the best location for opening a high-end French restuarant. We will identify a location in D.C. that explores the area for other restaurants, other French restaurants, and the median income of the area and surrounding areas, based on median income data from Census. Our stakeholders include not only our client, but also the customers who will be eating there, and an exploration of available transportation in the area will also be explored."
   ]
  },
  {
   "cell_type": "markdown",
   "metadata": {},
   "source": [
    "## Data "
   ]
  },
  {
   "cell_type": "markdown",
   "metadata": {},
   "source": [
    "### The three following data sets will be used to arrive at a conclusino for the best location for a high-end Frech restaurant based on competition, median income, and available transportation in the area:\n",
    "\n",
    "### Foursquare Data: We will use the Foursquare API to explore French restaurant locations in D.C. and pick a location that has little competition for out stakeholder (client).\n",
    "\n",
    "### Census Data: We will use 2010 Census data in order to find the median income by Census block, and use this to find the areas with the highest income, so the restaurant can experience the highest traffic possible given the high price point of the food.\n",
    "\n",
    "### DC Open Data Transporation: We will use the DC Open Data portal in order to find transportation in the area that will make it easier for one of our stakeholders (customers) to get there."
   ]
  },
  {
   "cell_type": "code",
   "execution_count": 4,
   "metadata": {},
   "outputs": [],
   "source": [
    "import requests \n",
    "import pandas as pd\n",
    "import numpy as np \n",
    "from geopy.geocoders import Nominatim\n",
    "from pandas.io.json import json_normalize\n",
    "\n",
    "import config\n",
    "\n",
    "# Foursquare API info\n",
    "CLIENT_ID = config.CLIENT_ID # your Foursquare ID\n",
    "CLIENT_SECRET = config.CLIENT_SECRET # your Foursquare Secret\n",
    "VERSION = '20180604'\n",
    "LIMIT = 30"
   ]
  },
  {
   "cell_type": "code",
   "execution_count": null,
   "metadata": {},
   "outputs": [],
   "source": []
  },
  {
   "cell_type": "code",
   "execution_count": null,
   "metadata": {},
   "outputs": [],
   "source": []
  }
 ],
 "metadata": {
  "kernelspec": {
   "display_name": "clustering",
   "language": "python",
   "name": "clustering"
  },
  "language_info": {
   "codemirror_mode": {
    "name": "ipython",
    "version": 3
   },
   "file_extension": ".py",
   "mimetype": "text/x-python",
   "name": "python",
   "nbconvert_exporter": "python",
   "pygments_lexer": "ipython3",
   "version": "3.7.7"
  }
 },
 "nbformat": 4,
 "nbformat_minor": 4
}
